{
 "cells": [
  {
   "cell_type": "markdown",
   "id": "16863e39-6f40-4df8-a26a-4e1aab2975b1",
   "metadata": {},
   "source": [
    "# Optimización de Procesos en el Tratamiento de Aguas Residuales"
   ]
  },
  {
   "cell_type": "markdown",
   "id": "373369d7-bbed-4e04-a2e4-4f4b43f0059f",
   "metadata": {},
   "source": [
    "### Integrantes:\n",
    "* Esdras lara Magaña\n",
    "* Steven Yahir Garcia Galvan\n",
    "* Jose Manuel Orozco Martinez"
   ]
  },
  {
   "cell_type": "markdown",
   "id": "0d3af2b5-5705-4bdc-bcf4-48f21dd0ad80",
   "metadata": {},
   "source": [
    "### Objetivos:"
   ]
  },
  {
   "cell_type": "markdown",
   "id": "07c7666b-30ee-42ef-a327-309f41bfceae",
   "metadata": {},
   "source": [
    ">  -  1-.**Reducir el consumo energético** en las plantas de tratamiento, ajustando los tiempos de operación y la velocidad de los equipos.\n",
    ">\n",
    ">  -  2-.**Reducir los costos de operación** asociados al uso de reactivos químicos, optimizando las dosis utilizadas en los tratamientos de coagulación y desinfección.\n",
    ">  -  3-.**Reducir los costos de mantenimiento** de los equipos de tratamiento de aguas residuales  mediante la optimización de las prácticas de mantenimiento preventivo, la capacitación del personal y la mejora en la gestión de inventarios de repuestos. "
   ]
  },
  {
   "cell_type": "markdown",
   "id": "8c163e8e-119b-4e8f-bee2-2a28ee36603b",
   "metadata": {},
   "source": [
    "### Objetivo general:"
   ]
  },
  {
   "cell_type": "markdown",
   "id": "54b71f03-09ac-4640-b277-498bc6293e2b",
   "metadata": {},
   "source": [
    "> **Fin Último del Estudio**\n",
    ">   * Optimizar el tratamiento de aguas residuales para garantizar un proceso eficiente, sostenible y económico que contribuya a la protección del medio ambiente y la salud pública."
   ]
  },
  {
   "cell_type": "markdown",
   "id": "0fc38bdb-337a-4977-b2e1-67f05b6ef567",
   "metadata": {},
   "source": [
    "### Objetivos especificos:"
   ]
  },
  {
   "cell_type": "markdown",
   "id": "c1b87549-a456-472e-8021-9adb10df39d2",
   "metadata": {},
   "source": [
    "> #### Componentes del Trabajo\n",
    ">\n",
    ">##### Reducir el consumo energético:\n",
    "> Este componente se enfocará en evaluar y ajustar los tiempos de operación y la velocidad de los equipos en las plantas de tratamiento. Se realizará un análisis del consumo energético de cada etapa del proceso, buscando identificar equipos o procesos que puedan ser ajustados para operar de manera más eficiente. Además, se implementarán tecnologías de control y monitoreo que permitan optimizar el uso de energía.\n",
    "> ##### Reducir los costos de operación asociados al uso de reactivos químicos:\n",
    "> Descripción: Este componente implicará la optimización de las dosis utilizadas gas cloro y peroxido de hidrogeno. Se llevará a cabo un estudio sobre distintos provedores conociendo las cantidades minimas y maximas de la cantidad que lleva el proceso y a su vez la cantidades maximas que pueden ser proporcionadas en por los proveedores \n",
    "> ##### Reducir los costos de mantenimiento de los equipos de tratamiento de aguas residuales:\n",
    "> Descripción: Este componente del trabajo se centrará en la implementación de un programa de mantenimiento donde para minimizar los costos conoceremos  las horas para el matenimiento , capacidad de operadores , capacitacion , turnos nocturnos y maquinaria adicional.\n"
   ]
  },
  {
   "cell_type": "markdown",
   "id": "326ea28f-b25e-4274-a902-be5cf905744e",
   "metadata": {},
   "source": [
    "#### Proceso de tratamiento del agua:\n",
    "1-.Pretratamiento:\n",
    "* Rejillas y Desbaste: Elimina sólidos grandes como ramas y basura.\n",
    "* Desarenado: Remueve arena y partículas pesadas.\n",
    "* Desengrasado: Retira aceites y grasas flotantes.\n",
    "\n",
    "2-.Tratamiento primario:\n",
    "* Sedimentación Primaria: Separa sólidos suspendidos por sedimentación, formando lodos que se retiran para su tratamiento.\n",
    "\n",
    "3-.Tratamiento secundario:\n",
    "* Reactor Biológico y Aireación: Microorganismos degradan la materia orgánica disuelta.\n",
    "* Sedimentación Secundaria: Se sedimentan los microorganismos para recircular o retirar el exceso.\n",
    "\n",
    "4-.Tratamiento terciario:\n",
    "* Filtración y Eliminación de Nutrientes: Remueve partículas finas y nutrientes restantes.\n",
    "* Desinfección: Elimina patógenos mediante cloro o rayos UV.\n",
    "\n",
    "\n",
    "5-.Reuso o Descarga Final:\n",
    "* El agua tratada se reutiliza o se descarga cumpliendo normativas ambientales."
   ]
  },
  {
   "cell_type": "markdown",
   "id": "4b911ec1-fa9f-4848-8327-b5ad61c097d1",
   "metadata": {},
   "source": [
    "## 1. Datos: \n",
    "\n",
    "los Kwh dependen de la cantidad de agua que se trata en este caso nuestra meta final de producción:Tratar al menos 1,000 m³/h \n",
    "EL consumo energetico por hora esta a 0.5kWh.\n",
    "\n",
    "\n",
    "0.5kWh x 1,000 m³/h = 500 kWh/h\n",
    "\n",
    "\n",
    "\n",
    "$]a$=$500 kWh/hora$ (consumo energético por hora de operación).\n",
    "\n",
    "\n",
    "$b$=$80 kWh/m$ (consumo energético por metro de velocidad). (consumo promedio)\n",
    "\n",
    "\n",
    "\n",
    "capacidad maxima de operación del equipo:$24 horas/día.$\n",
    "\n",
    "\n",
    "Horas máximas permitidas: $16 horas/día.$\n",
    "\n",
    "Velocidad minima  de la maquinaria: $2 m/hora$ \n",
    "\n",
    "\n",
    "Velociad maxima de la maquinaria: $10 m/hora$"
   ]
  },
  {
   "cell_type": "markdown",
   "id": "256b3a4b-12e9-421e-834c-ae38024265d6",
   "metadata": {},
   "source": [
    "###  Modelos que representa el problema. consumo de energia:"
   ]
  },
  {
   "cell_type": "markdown",
   "id": "156ae34a-9c6f-48fc-825f-3d08c981ea88",
   "metadata": {},
   "source": [
    "#### 1. Función a Optimizar \n",
    "\n",
    "* El objetivo principal es minimizar el consumo energetico:\n",
    "\n",
    "$$ Minimizar Z = a * x_1 + b * x_2$$ \n",
    "\n",
    "la funcion objetivo se expresa:\n",
    "\n",
    "$$ Minimizar Z = 500x_1 + 80x_2$$ \n",
    "\n",
    "#### 2. Variables de desición:\n",
    "\n",
    "\n",
    "$x_1$: Tiempo de operación del equipo en horas por día.\n",
    "\n",
    "$x_2$: Velocidad de los equipos en metros por hora.\n",
    "\n",
    "* cuanta energia consume por hora de operación?\n",
    "* cual es el consumo energetico por metro  de velocidad?\n",
    "\n",
    "#### 3. Restricciones:\n",
    "\n",
    "\n",
    "Las restricciones del modelo pueden incluir:\n",
    "\n",
    "\n",
    "$$x_1 \\leq 16$$\n",
    "$$x_1 \\leq 24$$\n",
    "$$2 \\leq x_2 \\leq 10$$"
   ]
  },
  {
   "cell_type": "markdown",
   "id": "67f89643-3533-400f-bf5f-dfeba23fa115",
   "metadata": {},
   "source": [
    "### Solución del problema de consumo energetico:"
   ]
  },
  {
   "cell_type": "code",
   "execution_count": 138,
   "id": "be788d22-6d1a-4d79-9a0b-f430a1739a4b",
   "metadata": {},
   "outputs": [
    {
     "data": {
      "text/plain": [
       "        message: Optimization terminated successfully. (HiGHS Status 7: Optimal)\n",
       "        success: True\n",
       "         status: 0\n",
       "            fun: 160.0\n",
       "              x: [ 0.000e+00  2.000e+00]\n",
       "            nit: 0\n",
       "          lower:  residual: [ 0.000e+00  0.000e+00]\n",
       "                 marginals: [ 5.000e+02  8.000e+01]\n",
       "          upper:  residual: [       inf  8.000e+00]\n",
       "                 marginals: [ 0.000e+00  0.000e+00]\n",
       "          eqlin:  residual: []\n",
       "                 marginals: []\n",
       "        ineqlin:  residual: [ 1.600e+01  8.000e+00  2.400e+01  0.000e+00]\n",
       "                 marginals: [-0.000e+00 -0.000e+00 -0.000e+00 -0.000e+00]\n",
       " mip_node_count: 0\n",
       " mip_dual_bound: 0.0\n",
       "        mip_gap: 0.0"
      ]
     },
     "execution_count": 138,
     "metadata": {},
     "output_type": "execute_result"
    }
   ],
   "source": [
    "import numpy as np\n",
    "from scipy.optimize import linprog\n",
    "\n",
    "\n",
    "a = 500  #\n",
    "b = 80  \n",
    "\n",
    "\n",
    "c = [a, b]  \n",
    "\n",
    "Aub = [\n",
    "    [1, 0], \n",
    "    [0, 1],  \n",
    "    [-1, 0],  \n",
    "    [0, -1],  \n",
    "]\n",
    "\n",
    "bub = [16, 10, 24, -2]\n",
    "\n",
    "\n",
    "x0_lim= (0, None)  \n",
    "x1_lim= (2, 10)  \n",
    "\n",
    "# Optimización\n",
    "resultado= linprog(c, A_ub=Aub, b_ub=bub, bounds=[x0_lim, x1_lim], method='highs')\n",
    "resultado \n",
    "    \n"
   ]
  },
  {
   "cell_type": "markdown",
   "id": "a98879cd-6fc1-494c-8e4d-a38b856ab042",
   "metadata": {},
   "source": [
    "### Visualización de la solución del problema."
   ]
  },
  {
   "cell_type": "code",
   "execution_count": 67,
   "id": "7ae30f1c-346f-4386-9904-fc26e02bd7ee",
   "metadata": {},
   "outputs": [
    {
     "data": {
      "image/png": "[encoded data removed]",
      "text/plain": [
       "<Figure size 800x600 with 1 Axes>"
      ]
     },
     "metadata": {},
     "output_type": "display_data"
    }
   ],
   "source": [
    "\n",
    "plt.figure(figsize=(8, 6))\n",
    "plt.plot(x1_vals, consumo_vals, label=f'Velocidad constante: {x2_const} unidades/hora', color='b')\n",
    "\n",
    "\n",
    "plt.axhline(y=160, color='r', linestyle='--', label='Consumo mínimo: 160 kWh')\n",
    "\n",
    "plt.title('Consumo Energético en Función del Tiempo de Operación ($x_1$)')\n",
    "plt.xlabel('Tiempo de Operación ($x_1$) [horas]')\n",
    "plt.ylabel('Consumo Energético [kWh]')\n",
    "plt.legend()\n",
    "plt.grid()\n",
    "plt.show()\n"
   ]
  },
  {
   "cell_type": "markdown",
   "id": "6bd35cd8-2fc9-4803-83d9-4e54d6f03885",
   "metadata": {},
   "source": [
    "## 2. Datos:\n",
    "#### Quimicos Utilizados:\n",
    "\n",
    "Cloro (Hipoclorito de Sodio o Gas Cloro): Elimina bacterias, virus y otros microorganismos patógenos en el agua tratada.\n",
    "\n",
    "peróxido de hidrógeno (H₂O₂) es un compuesto químico que se utiliza en el tratamiento de aguas residuales debido a sus fuertes propiedades oxidantes\n",
    "* proveedores:\n",
    "\n",
    "Química Pima, S.A. de C.V. \n",
    "$$Costo\\_(Cloro)=30MXN/kg$$ \n",
    "$$Costo\\_(Peroxido)=124.99MXN/kg$$ \n",
    "\n",
    "D'Grosa Industrial:\n",
    "\n",
    "$$Costo\\_(Cloro)=34.99MXN/ltr$$ \n",
    "$$Costo\\_(Peroxido)=142.99MXN/kg$$ \n",
    "\n",
    "Cantidad minima de Gas cloro: $10 gr/L$\n",
    "\n",
    "\n",
    "Cantidad minima de peroxido de hidrogeno: $100 gr/L$\n",
    "\n",
    "* Cada proveedor puede tener una cantidad máxima disponible de reactivos que se debe respetar:\n",
    "  \n",
    "  * Capacidad máxima quimica Pima para gas cloro: $200kg$\n",
    "\n",
    "  * Capacidad máxima quimica Pima para peroxido de hidrogeno: $150kg$\n",
    "\n",
    "  * Capaciad máxima D'Grosa para gas cloro: $300kg$\n",
    "\n",
    "  * Capaciad máxima D'Grosa para peroxido de hidrogeno: $100kg$"
   ]
  },
  {
   "cell_type": "markdown",
   "id": "c0ed5455-2bf2-403b-a3ba-017308f2c300",
   "metadata": {},
   "source": [
    "###  Modelos que representa el problema. costos de operación:\n",
    "#### 1. Función a Optimizar \n",
    "\n",
    "* El objetivo principal es minimizar los costos de operación:\n",
    "$$ Minimizar C = 30x_1+34.99x_2+124.99x_3+142.9930x_4$$\n",
    "\n",
    "#### 2. Variables de desición:\n",
    "\n",
    "$x_1$:Cantidad de cloro comprada a Química Pima, en kilogramos.\n",
    "\n",
    "$x_2$:Cantidad de cloro comprada a D'Grosa Industrial, en kilogramos.\n",
    "\n",
    "$x_3$:Cantidad de peróxido de hidrógeno comprada a Química Pima, en kilogramos.\n",
    "\n",
    "$x_4$:Cantidad de peróxido de hidrógeno comprada a D'Grosa Industrial, en kilogramos.\n",
    "\n",
    "#### 3. Restricciones:\n",
    "\n",
    "Las restricciones del modelo pueden incluir:\n",
    "\n",
    "$$x_1+x_2\\geq 10$$ \n",
    "$$x_3+x_4\\geq 100$$ \n",
    "$$x_1\\leq 200$$ \n",
    "$$x_3\\leq 150$$\n",
    "$$x_2\\leq 300$$\n",
    "$$x_4\\leq 100$$"
   ]
  },
  {
   "cell_type": "markdown",
   "id": "f15fde89-02ef-41b3-8fa1-f728cea28529",
   "metadata": {},
   "source": [
    "### Solución del problema de costos de operacion:"
   ]
  },
  {
   "cell_type": "code",
   "execution_count": 130,
   "id": "f398c6cb-806a-4dc0-a484-b2ae4ee80af1",
   "metadata": {},
   "outputs": [
    {
     "data": {
      "text/plain": [
       "        message: Optimization terminated successfully. (HiGHS Status 7: Optimal)\n",
       "        success: True\n",
       "         status: 0\n",
       "            fun: 3799.0\n",
       "              x: [ 1.000e+01  1.000e+02  0.000e+00  0.000e+00]\n",
       "            nit: 0\n",
       "          lower:  residual: [ 1.000e+01  1.000e+02  0.000e+00  0.000e+00]\n",
       "                 marginals: [ 0.000e+00  0.000e+00  1.250e+02  1.430e+02]\n",
       "          upper:  residual: [       inf        inf        inf        inf]\n",
       "                 marginals: [ 0.000e+00  0.000e+00  0.000e+00  0.000e+00]\n",
       "          eqlin:  residual: []\n",
       "                 marginals: []\n",
       "        ineqlin:  residual: [ 0.000e+00  0.000e+00  1.900e+02  5.000e+01\n",
       "                              3.000e+02  1.000e+02]\n",
       "                 marginals: [-3.000e+01 -3.499e+01 -0.000e+00 -0.000e+00\n",
       "                             -0.000e+00 -0.000e+00]\n",
       " mip_node_count: 0\n",
       " mip_dual_bound: 0.0\n",
       "        mip_gap: 0.0"
      ]
     },
     "execution_count": 130,
     "metadata": {},
     "output_type": "execute_result"
    }
   ],
   "source": [
    "from scipy.optimize import linprog\n",
    "\n",
    "\n",
    "costos = [30, 34.99, 124.99, 142.99]  # [Cloro Pima, Peróxido Pima, Cloro Dgrosa, Peróxido Dgrosa]\n",
    "\n",
    "\n",
    "min_cloro = 10  \n",
    "min_peroxido = 100  \n",
    "\n",
    "\n",
    "capacidad_max_cloro_pima = 200 \n",
    "capacidad_max_peroxido_pima = 150\n",
    "capacidad_max_cloro_dgrosa = 300  \n",
    "capacidad_max_peroxido_dgrosa = 100 \n",
    "\n",
    "\n",
    "Aub = [\n",
    "    [-1, 0, 0, 0],  \n",
    "    [0, -1, 0, 0],  \n",
    "    [1, 0, 0, 0],  \n",
    "    [0, 1, 0, 0],   \n",
    "    [0, 0, -1, 0],  \n",
    "    [0, 0, 0, -1],  \n",
    "]\n",
    "\n",
    "\n",
    "bub = [\n",
    "    -min_cloro,                    \n",
    "    -min_peroxido,                 \n",
    "    capacidad_max_cloro_pima,      \n",
    "    capacidad_max_peroxido_pima,   \n",
    "    capacidad_max_cloro_dgrosa,    \n",
    "    capacidad_max_peroxido_dgrosa,  \n",
    "]\n",
    "\n",
    "\n",
    "\n",
    "\n",
    "\n",
    "resultado = linprog(c=costos, A_ub=Aub, b_ub=bub, bounds=limites, method='highs')\n",
    "resultado \n",
    "    \n"
   ]
  },
  {
   "cell_type": "markdown",
   "id": "c63e4563-628a-4111-82a6-17d5961c0979",
   "metadata": {},
   "source": [
    "### Visualización de la solución del problema."
   ]
  },
  {
   "cell_type": "code",
   "execution_count": 132,
   "id": "a4cc7b5a-8cfb-4e10-84bc-924011ad0865",
   "metadata": {},
   "outputs": [
    {
     "data": {
      "image/png": "[encoded data removed]",
      "text/plain": [
       "<Figure size 1000x600 with 1 Axes>"
      ]
     },
     "metadata": {},
     "output_type": "display_data"
    }
   ],
   "source": [
    "productos = ['Cloro Pima', 'Peróxido Pima', 'Cloro Dgrosa', 'Peróxido Dgrosa']\n",
    "cantidades = resultado.x\n",
    "\n",
    "plt.figure(figsize=(10, 6))\n",
    "plt.bar(productos, cantidades, color=['blue', 'green','red','yellow'])\n",
    "plt.title('Cantidades de Productos Adquiridos')\n",
    "plt.xlabel('Productos')\n",
    "plt.ylabel('Cantidad (unidades)') \n",
    "plt.grid(axis='y', linestyle='--')\n",
    "plt.show()"
   ]
  },
  {
   "cell_type": "markdown",
   "id": "346ba6eb-3499-4771-a3af-89f9a9d78aab",
   "metadata": {},
   "source": [
    "## 3. Datos:\n",
    "\n",
    "#### Maquinaria utilizada:\n",
    "Bombas dosificadoras:son un tipo de bomba que se utilizan en plantas de tratamiento de aguas residuales (EDAR) para inyectar productos químicos en el agua residual\n",
    "\n",
    "Bombas residuales: Se utilizan para bombear agua en caso de inundaciones o desbordes. Son capaces de trabajar con aguas cargadas y sólidos en suspensión.\n",
    "\n",
    "Tamices de tambor: Se utilizan en el pretratamiento de aguas residuales en plantas de tratamiento de tamaño pequeño y mediano. \n",
    "Tamiz rotativo: Se utiliza para separar de forma continua las partículas sólidas en suspensión en el flujo. \n",
    "\n",
    "* proveedores:\n",
    "\n",
    "\n",
    "Marteli. Bombas y equipos S.A y C.V\n",
    "\n",
    "  * Equimar. soluciones en tratamientos de aguas.\n",
    "\n",
    "* Centros de servicios:  \n",
    "\n",
    "\n",
    "  * Veolia Water Technologies & Solutions\n",
    "\n",
    "\n",
    "\n",
    "Serintra. servicios empresariales y constitucionales en servicio de maquinaria para aguas residuales S.A y C.V\n",
    "\n",
    "* Capacidad de operadores:\n",
    "  * 1 operador general que se encargue de la supervisión y operación de los sistemas.\n",
    "  * 2 a 3 técnicos de mantenimiento que puedan encargarse de las bombas y tamices, realizando mantenimiento preventivo y correctivo.\n",
    "\n",
    "* Tiempo de procesos:\n",
    "  * Para el mantenimiento semanal, se estima de 3 a 4 horas por equipo.(3.5 horas promedio)\n",
    "  * Para el mantenimiento mayor (cada 3 a 6 meses), se deben considerar 8 a 10 horas por equipo.(promedio 9 horas).\n",
    "* horas de trabajo semanales: 40 horas aproximadamente \n",
    "\n",
    "Los costos son los siguientes:\n",
    "Costo por empleado = $5000 MXN semanal$ \n",
    "    \n",
    "Costo por turno nocturno = $1000 MXN $ por turno \n",
    "\n",
    "Costo de máquina adicional: $27,000 MXN$ (Bomba dosificadora.)\n",
    "\n",
    "Costo de capacitacion = $350MXN$ por hora \n"
   ]
  },
  {
   "cell_type": "markdown",
   "id": "0ddbeb04-84de-45f0-a7b4-fddcbe8349ab",
   "metadata": {},
   "source": [
    "###  Modelos que representa el problema. costos de mantenimiento :\n",
    "\n",
    "#### 1. Función a Optimizar \n",
    "$$ Minimizar z = 5000x_1+1000x_2+27000x_3+350x_4$$\n",
    "\n",
    " * cuántos empleados se necesitan para eso\n",
    "  * necesito turnos nocturnos?\n",
    "  * necesito otra máquina?\n",
    "  * capacitacion del personal\n",
    "\n",
    "#### 2. Variables de desición:\n",
    "$x_1$:Número de empleados (técnicos de mantenimiento).\n",
    "\n",
    "$x_2$:Número de turnos nocturnos (1 si se necesita, 0 si no).\n",
    "\n",
    "$x_3$:Número de máquinas adicionales necesarias (bombas, tamices).\n",
    "\n",
    "$x_4$:Número de horas de capacitación del personal (en horas).\n",
    "#### 3. Restricciones:\n",
    "\n",
    "$$x_1 \\geq 3$$\n",
    "$$x_2 \\leq 1$$\n",
    "$$3.5n+9(\\frac{n}{6})\\leq 40x_1 $$\n",
    "$$x_4 \\geq 10$$\n"
   ]
  },
  {
   "cell_type": "markdown",
   "id": "1dd7e61d-6867-41f9-b01e-b5137129e3b0",
   "metadata": {},
   "source": [
    "### Solución del problema. costos de mantenimiento:"
   ]
  },
  {
   "cell_type": "code",
   "execution_count": 143,
   "id": "f1bd6e8f-736b-4ee7-87fe-beb4cf7f0223",
   "metadata": {},
   "outputs": [
    {
     "data": {
      "text/plain": [
       "        message: Optimization terminated successfully. (HiGHS Status 7: Optimal)\n",
       "        success: True\n",
       "         status: 0\n",
       "            fun: 18500.0\n",
       "              x: [ 3.000e+00  0.000e+00  0.000e+00  1.000e+01]\n",
       "            nit: 0\n",
       "          lower:  residual: [ 0.000e+00  0.000e+00  0.000e+00  1.000e+01]\n",
       "                 marginals: [ 5.000e+03  1.000e+03  2.700e+04  0.000e+00]\n",
       "          upper:  residual: [       inf  1.000e+00        inf        inf]\n",
       "                 marginals: [ 0.000e+00  0.000e+00  0.000e+00  0.000e+00]\n",
       "          eqlin:  residual: []\n",
       "                 marginals: []\n",
       "        ineqlin:  residual: [ 0.000e+00  1.000e+00  6.050e+01  0.000e+00\n",
       "                              0.000e+00]\n",
       "                 marginals: [-0.000e+00 -0.000e+00 -0.000e+00 -0.000e+00\n",
       "                             -3.500e+02]\n",
       " mip_node_count: 0\n",
       " mip_dual_bound: 0.0\n",
       "        mip_gap: 0.0"
      ]
     },
     "execution_count": 143,
     "metadata": {},
     "output_type": "execute_result"
    }
   ],
   "source": [
    "from scipy.optimize import linprog\n",
    "\n",
    "\n",
    "c = [5000, 1000, 27000, 350]  \n",
    "\n",
    "Aub = [\n",
    "    [-1, 0, 0, 0],      \n",
    "    [0, 1, 0, 0],       \n",
    "    [-3.5, 0, 0, -1],   \n",
    "    [0, 0, 1, 0],       \n",
    "    [0, 0, 0, -1]     \n",
    "]\n",
    "\n",
    "\n",
    "bub = [-3, 1, 40, 0, -10]\n",
    "\n",
    "x0_lim = (3, None)  \n",
    "x1_lim = (0, 1)      \n",
    "x2_lim = (0, None)   \n",
    "x3_lim = (0, None)  \n",
    "\n",
    "\n",
    "resultado = linprog(c, A_ub=Aub, b_ub=bub, bounds=[x0_lim, x1_lim, x2_lim, x3_lim])\n",
    "resultado\n"
   ]
  },
  {
   "cell_type": "markdown",
   "id": "b6cdc699-9241-41ba-90c7-73e253ffea77",
   "metadata": {},
   "source": [
    "### Visualización de la solución del problema."
   ]
  },
  {
   "cell_type": "code",
   "execution_count": 145,
   "id": "d8c5756a-2f23-4050-baad-261e0784e578",
   "metadata": {},
   "outputs": [
    {
     "data": {
      "image/png": "[encoded data removed]",
      "text/plain": [
       "<Figure size 600x400 with 1 Axes>"
      ]
     },
     "metadata": {},
     "output_type": "display_data"
    }
   ],
   "source": [
    "plt.figure(figsize=(6, 4))\n",
    "plt.bar(['Costo Total Mínimo'], [resultado.fun], color='blue')\n",
    "plt.title('Resultado de la Optimización: Costo Total Mínimo')\n",
    "plt.ylabel('Costo (MXN)')\n",
    "plt.grid(axis='y', linestyle='--')\n",
    "plt.show()"
   ]
  },
  {
   "cell_type": "markdown",
   "id": "f54bb892-d1e2-4405-8e87-36354127cb1b",
   "metadata": {},
   "source": [
    "#### ¿Qué situación representan los modelos?\n",
    "\n",
    "Situación que Representa el Modelo\n",
    "El modelo representa la optimización de costos en el tratamiento de aguas residuales en una planta de tratamiento. Se centra en la gestión eficiente de recursos para lograr un tratamiento eficaz que cumpla con los estándares de calidad requeridos, mientras se minimizan los costos asociados a reactivos químicos, energía y mantenimiento."
   ]
  },
  {
   "cell_type": "markdown",
   "id": "bd585e49-ee89-449a-9315-92761283c9c9",
   "metadata": {},
   "source": [
    "#### ¿Cuáles son las limitaciones fundamentales generales ?"
   ]
  },
  {
   "cell_type": "markdown",
   "id": "417fa35b-ff84-4b64-bc47-a814e759530c",
   "metadata": {},
   "source": [
    "* **1-.** Reducir el consumo energético:\n",
    "  \n",
    "Reducir demasiado el consumo energético puede llevar a una disminución en la cantidad de agua tratada, afectando la capacidad de la planta para cumplir con las demandas.\n",
    "\n",
    "* **2-.** Reducir costos de operación:\n",
    "\n",
    "Ajustar la cantidad de reactivos o cambiar los proveedores puede impactar negativamente la calidad del tratamiento del agua, lo que puede ocasionar incumplimiento de normativas.\n",
    "\n",
    "* **3-.**\n",
    "\n",
    "Reducir el mantenimiento puede acelerar el desgaste de los equipos, lo que conlleva a un mayor número de fallos y reparaciones más costosas en el futuro."
   ]
  },
  {
   "cell_type": "markdown",
   "id": "a2211b66-9ec2-4122-8655-6aa83b2cf923",
   "metadata": {},
   "source": [
    "### ¿Condujo  el algoritmo de optimización a una solución factible?"
   ]
  },
  {
   "cell_type": "markdown",
   "id": "4dc534f7-f7c1-4597-bb1b-d1771a6443b4",
   "metadata": {},
   "source": [
    "Dado que todos los valores cumplen con las restricciones impuestas, pudimos concluir que el algoritmo condujo a una solución factible. Esto significa que podemos proceder con los valores de reactivos, energía y costos de mantenimiento para el tratamiento de aguas residuales, ya que son óptimos y están dentro de los límites establecidos."
   ]
  },
  {
   "cell_type": "markdown",
   "id": "d7f1b798-1d25-4782-9de9-c466ddbe9b7f",
   "metadata": {},
   "source": [
    "### Conclusiones:"
   ]
  },
  {
   "cell_type": "markdown",
   "id": "3f87b80b-ee2d-4da8-9f94-8640213cb7ab",
   "metadata": {},
   "source": [
    "**Reducción del Consumo Energético:**\n",
    "\n",
    "Según el modelo optimizado, el consumo energético mínimo alcanzado fue de 160 kWh, lo cual muestra que, al ajustar los tiempos de operación y la velocidad de los equipos, es posible reducir considerablemente el uso de energía dentro de los límites operativos establecidos.\n",
    "Este resultado demuestra que se puede alcanzar una mayor eficiencia energética al planificar el uso de los equipos de manera más controlada, lo que se traduce en una menor demanda de energía, ayudando a disminuir costos de electricidad y reduciendo el impacto ambiental.\n",
    "\n",
    "**Reducción de los Costos de Operación:**\n",
    "\n",
    "El análisis de costos muestra que al utilizar correctamente los recursos, como los reactivos químicos (cloro y peróxido), y al limitar el uso excesivo de estos insumos, se logró obtener un costo total mínimo óptimo.\n",
    "Esto confirma que la optimización de la cantidad de reactivos utilizados, en función de las restricciones de capacidad y demanda mínima, contribuye a reducir los costos operacionales sin comprometer la eficiencia del proceso.\n",
    "\n",
    "**Reducción de Costos de Mantenimiento:**\n",
    "\n",
    "Aunque el modelo no aborda directamente el costo de mantenimiento, la optimización del uso de los equipos y la reducción del tiempo de operación implican menos desgaste de los mismos. Esto puede reducir la frecuencia de mantenimiento y alargar la vida útil de los equipos, lo que indirectamente contribuye a menores costos de mantenimiento.\n",
    "Menos tiempo de operación y una velocidad controlada también reducen la probabilidad de fallos mecánicos, lo que disminuye la necesidad de reparaciones costosas."
   ]
  },
  {
   "cell_type": "markdown",
   "id": "e126f501-4497-4dcb-af94-8e519856e5cf",
   "metadata": {},
   "source": [
    "### Referencias:"
   ]
  },
  {
   "cell_type": "markdown",
   "id": "f029edd7-da60-4b0c-b02e-48439a3a7f0a",
   "metadata": {},
   "source": [
    "(S/f-b). Gob.mx. Recuperado el 2 de octubre de 2024, de https://liconsa.gob.mx/wp-content/uploads/2012/01/man-proc-op-plantas-trat-aguas-resi-his.pdf\r\n",
    "\n",
    "Equipo para el Tratamiento de las Aguas Residuales. (s/f). Com.mx. Recuperado el 9 de octubre de 2024, de https://wam.com.mx/es-ES/WAMMX/MFamily/359/Equipo-para-el-Tratamiento-de-las-Aguas-Residuales\n",
    "o.\r\n",
    "\n",
    " Cuánto Cuesta una Planta de Tratamiento de Aguas Residuales: Guía Completa y Costos Actuales. (2024, enero 15). Instituto del Agua. https://institutodelagua.es/aguas-residuales/cuanto-cuesta-una-planta-de-tratamiento-de-aguas-residualesaguas-residuales/Enlaces a un sitio externo.\n",
    "\n",
    "Online, C. (s/f). Gas cloro. Cosmos Online. Recuperado el 9 de octubre de 2024, de https://www.cosmos.com.mx/producto/gas-4qfh/gas-cloro-bsxy/\n",
    " \n"
   ]
  }
 ],
 "metadata": {
  "kernelspec": {
   "display_name": "Python 3 (ipykernel)",
   "language": "python",
   "name": "python3"
  },
  "language_info": {
   "codemirror_mode": {
    "name": "ipython",
    "version": 3
   },
   "file_extension": ".py",
   "mimetype": "text/x-python",
   "name": "python",
   "nbconvert_exporter": "python",
   "pygments_lexer": "ipython3",
   "version": "3.12.4"
  }
 },
 "nbformat": 4,
 "nbformat_minor": 5
}
