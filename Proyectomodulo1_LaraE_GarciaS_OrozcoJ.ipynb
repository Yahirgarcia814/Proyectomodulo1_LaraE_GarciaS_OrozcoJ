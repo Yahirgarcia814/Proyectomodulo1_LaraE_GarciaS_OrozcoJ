{
 "cells": [
  {
   "cell_type": "markdown",
   "id": "16863e39-6f40-4df8-a26a-4e1aab2975b1",
   "metadata": {},
   "source": [
    "# Optimización de Procesos en el Tratamiento de Aguas Residuales"
   ]
  },
  {
   "cell_type": "markdown",
   "id": "373369d7-bbed-4e04-a2e4-4f4b43f0059f",
   "metadata": {},
   "source": [
    "### Integrantes:\n",
    "* Esdras lara Magaña\n",
    "* Steven Yahir Garcia Galvan\n",
    "* Jose Manuel Orozco Martinez"
   ]
  },
  {
   "cell_type": "markdown",
   "id": "0d3af2b5-5705-4bdc-bcf4-48f21dd0ad80",
   "metadata": {},
   "source": [
    "### Objetivos:"
   ]
  },
  {
   "cell_type": "markdown",
   "id": "07c7666b-30ee-42ef-a327-309f41bfceae",
   "metadata": {},
   "source": [
    ">  -  1-.**Reducir el consumo energético en un 10%** en las plantas de tratamiento, ajustando los tiempos de operación y la velocidad de los equipos.\n",
    ">\n",
    ">  -  2-.**Reducir en un 20% los costos de operación** asociados al uso de reactivos químicos, optimizando las dosis utilizadas en los tratamientos de coagulación y desinfección.\n",
    ">  -  3-.**Reducir los costos de mantenimiento** de los equipos de tratamiento de aguas residuales en un 15% mediante la optimización de las prácticas de mantenimiento preventivo, la capacitación del personal y la mejora en la gestión de inventarios de repuestos. "
   ]
  },
  {
   "cell_type": "markdown",
   "id": "8c163e8e-119b-4e8f-bee2-2a28ee36603b",
   "metadata": {},
   "source": [
    "### Objetivo general:"
   ]
  },
  {
   "cell_type": "markdown",
   "id": "54b71f03-09ac-4640-b277-498bc6293e2b",
   "metadata": {},
   "source": [
    "> **Fin Último del Estudio**\n",
    ">   * Optimizar el tratamiento de aguas residuales para garantizar un proceso eficiente, sostenible y económico que contribuya a la protección del medio ambiente y la salud pública."
   ]
  },
  {
   "cell_type": "markdown",
   "id": "0fc38bdb-337a-4977-b2e1-67f05b6ef567",
   "metadata": {},
   "source": [
    "### Objetivos especificos:"
   ]
  },
  {
   "cell_type": "markdown",
   "id": "c1b87549-a456-472e-8021-9adb10df39d2",
   "metadata": {},
   "source": [
    "> #### Componentes del Trabajo\n",
    ">\n",
    ">##### Reducir el consumo energético en un 10%:\n",
    "> Este componente se enfocará en evaluar y ajustar los tiempos de operación y la velocidad de los equipos en las plantas de tratamiento. Se realizará un análisis del consumo energético de cada etapa del proceso, buscando identificar equipos o procesos que puedan ser ajustados para operar de manera más eficiente. Además, se implementarán tecnologías de control y monitoreo que permitan optimizar el uso de energía.\n",
    "> ##### Reducir en un 20% los costos de operación asociados al uso de reactivos químicos:\n",
    "> Descripción: Este componente implicará la optimización de las dosis utilizadas en los tratamientos de coagulación y desinfección. Se llevará a cabo un estudio de la química del agua residual para determinar las dosis óptimas de reactivos, evitando el sobredimensionamiento que puede resultar en costos innecesarios. También se evaluarán alternativas a los reactivos utilizados, considerando opciones más económicas o menos contaminantes.\n",
    "> ##### Reducir los costos de mantenimiento de los equipos de tratamiento de aguas residuales en un 15%:\n",
    "> Descripción: Este componente del trabajo se centrará en la implementación de un programa de mantenimiento preventivo y predictivo. Se desarrollará un calendario de mantenimiento que incluya inspecciones regulares, limpieza y ajustes necesarios para prevenir fallos. La capacitación del personal será clave para asegurar que se sigan las mejores prácticas de mantenimiento y operación. \n",
    " \n"
   ]
  },
  {
   "cell_type": "markdown",
   "id": "256b3a4b-12e9-421e-834c-ae38024265d6",
   "metadata": {},
   "source": [
    "###  Modelo que representa el problema."
   ]
  },
  {
   "cell_type": "markdown",
   "id": "156ae34a-9c6f-48fc-825f-3d08c981ea88",
   "metadata": {},
   "source": [
    "#### 1. Función a Optimizar\n",
    "El objetivo principal es minimizar los costos de operación del tratamiento de aguas residuales. La función a optimizar se puede expresar como:"
   ]
  },
  {
   "cell_type": "markdown",
   "id": "e37cba51-9965-42a1-b257-8e6bfd20c95c",
   "metadata": {},
   "source": [
    "$$ Minimizar Z = C_{reactivos}+C_{energía}+C_{mantenimiento}$$ \n",
    "​\n",
    "la función objetivo completa se expresa como:\n",
    "$$ Minimizar Z = p_{reactivos}*(1-0.20))*x_1+p_{energía}*(1-0.20))*x_2+C_{mantenimiento}*(1-0.15))*x_3$$ \n",
    "donde:\n",
    "* **Reactivos** = costo total de los reactivos químicos utilizados.\n",
    "* **Energia** = costo total de la energía consumida durante el proceso de tratamiento.\n",
    "* **Mantenimiento** = costo total asociado al mantenimiento de los equipos."
   ]
  },
  {
   "cell_type": "markdown",
   "id": "e04b5958-cc3c-4c4e-b963-2bb9dee7f14a",
   "metadata": {},
   "source": [
    "#### 2-. Variables de desición:\n",
    "Las variables de decisión pueden incluir:\n",
    "* $x_1$=cantidad reactivo químico utilizado (en kg).\n",
    "* $x_2$=cantidad energia consumida (en kWh).\n",
    "* $x_3$=costo mantenimiento de los equipos (en unidades monetarias)."
   ]
  },
  {
   "cell_type": "markdown",
   "id": "9f08938f-7d2d-4e0b-acd0-31d2ba544245",
   "metadata": {},
   "source": [
    "#### 3. Restricciones\n",
    "Las restricciones del modelo pueden incluir:\n",
    "    \n",
    " **1-.** Disponibilidad de Reactivos:\n",
    "* La cantidad de reactivo químico utilizado no puede exceder la disponibilidad máxima.\n",
    "$$x_1 ≤ R_{max}$$\n",
    "Donde $x_1 \\leq R_{max}$ es la cantidad máxima de reactivo disponible.\n",
    "\n",
    "**2-.** Capacidad Energética:\n",
    "* La energía consumida no puede exceder la capacidad energética de la planta.\n",
    "$$x_2 ≤ E_{max}$$\n",
    "Donde $x_2 \\leq E_{max}$ es la cantidad máxima de reactivo disponible.\n",
    "    \n",
    "**3-.** Costos de Mantenimiento:\n",
    "* Los costos de mantenimiento deben estar dentro de un límite presupuestario.\n",
    "$$x_3 ≤ M_{max}$$\n",
    "Donde $x_3 \\leq M_{max}$ es el presupuesto máximo asignado para mantenimiento\n",
    "    \n",
    "**4-.** Disponibilidad de Reactivos:\n",
    "* La cantidad de reactivo químico utilizado no puede ser menor que esta cantidad mínima.\n",
    "$$x_1 ≥ R_{min}$$\n",
    "Cantidad mínima de reactivo químico que debe ser utilizada para garantizar un tratamiento efectivo de aguas residuales.\n",
    "\n",
    "**5-.** Capacidad Energética:\n",
    "* La energía consumida no puede ser menor que esta cantidad mínima.\n",
    "$$x_2 ≥ E_{min}$$\n",
    " Cantidad mínima de energía que debe ser consumida durante el proceso de tratamiento para asegurar un funcionamiento adecuado.\n",
    "\n",
    "**6-.** Costos de mantenimiento:\n",
    "*  Los costos de mantenimiento no pueden ser menores que esta cantidad mínima.\n",
    "$$x_3 ≥ M_{min}$$\n",
    "Costo mínimo de mantenimiento que se debe mantener para garantizar el buen funcionamiento de los equipos de tratamiento.\n",
    " \\, \\text{unidades monetarias}\r\n",
    "  \\]\r\n"
   ]
  },
  {
   "cell_type": "markdown",
   "id": "f54bb892-d1e2-4405-8e87-36354127cb1b",
   "metadata": {},
   "source": [
    "#### ¿Qué situación representa el modelo?\n",
    "\n",
    "Situación que Representa el Modelo\n",
    "El modelo representa la optimización de costos en el tratamiento de aguas residuales en una planta de tratamiento. Se centra en la gestión eficiente de recursos para lograr un tratamiento eficaz que cumpla con los estándares de calidad requeridos, mientras se minimizan los costos asociados a reactivos químicos, energía y mantenimiento."
   ]
  },
  {
   "cell_type": "markdown",
   "id": "bd585e49-ee89-449a-9315-92761283c9c9",
   "metadata": {},
   "source": [
    "#### ¿Cuáles son las limitaciones fundamentales?"
   ]
  },
  {
   "cell_type": "markdown",
   "id": "417fa35b-ff84-4b64-bc47-a814e759530c",
   "metadata": {},
   "source": [
    "* **1-.** Capacidad de los Equipos:\n",
    "\n",
    "Las restricciones en la capacidad de tratamiento de los equipos pueden limitar la cantidad de agua residual que se puede procesar, afectando la posibilidad de reducir costos en función del volumen de agua tratada.\n",
    "\n",
    "* **2-.** Costos Fijos y Variables:\n",
    "\n",
    "La relación entre costos fijos y variables puede ser compleja. Algunas mejoras en el proceso pueden requerir inversiones iniciales significativas que impacten la evaluación de costos a corto plazo.\n",
    "\n",
    "* **3-.** Interacciones Entre Variables:\n",
    "\n",
    "Las relaciones no lineales entre el uso de reactivos y el consumo de energía pueden complicar la modelación y la solución del problema."
   ]
  },
  {
   "cell_type": "markdown",
   "id": "4e0612a2-153f-462e-906a-c0020e2115b0",
   "metadata": {},
   "source": [
    "#### Significado y Valor de los Parámetros:\n",
    "1. $ C_{reactivos}$\n",
    "\n",
    "* Significado: Costo total de los reactivos químicos utilizados en el tratamiento.\n",
    "* Valor: Este parámetro puede variar dependiendo del tipo de reactivo, la cantidad utilizada y los precios del mercado.\n",
    "  Se puede calcular como:\n",
    "   $ C_{reactivos}$= $ p_{reactivos}* x_1$\n",
    "  donde      $p_{reactivos}$ es el precio por unidad de reactivo.\n",
    "\n",
    "2. $ C_{energía}$\n",
    "\n",
    "* Significado: Costo total asociado al consumo de energía durante el tratamiento.\n",
    "* Valor: Este parámetro puede variar dependiendo del tipo de reactivo, la cantidad utilizada y los precios del mercado.\n",
    "  Se puede calcular como:\n",
    "   $ C_{energía}$= $ p_{energia}* x_2$\n",
    "  donde      $p_{energia}$  es el costo por kWh.\n",
    "\n",
    "2. $ C_{mantenimiento}$\n",
    "\n",
    "* Significado: Costo total relacionado con el mantenimiento de los equipos.\n",
    "* Valor: Puede incluir costos de mano de obra, piezas de repuesto y servicios. Se puede estimar en función del historial de mantenimiento de la planta.\n"
   ]
  },
  {
   "cell_type": "markdown",
   "id": "a3883771-74bf-41cb-8bb4-7e0e05a17b20",
   "metadata": {},
   "source": [
    "$R_{max},E_{max},M_{max}$\n",
    "* Significado: Estos son parámetros de capacidad que representan los límites máximos para la cantidad de reactivo disponible, la energía consumida y el presupuesto de mantenimiento, respectivamente.\n",
    "* Valor: Estos valores son específicos de cada planta y dependen de factores como el diseño de la planta, la capacidad de tratamiento y el presupuesto asignado por la administración.$C_{mantenimiento}$= $x_3$\n",
    "\n",
    "$R_{min},E_{min},M_{min}$\n",
    "* Significado: Estos son parámetros de capacidad que representan los límites minima para la cantidad de reactivo disponible, la energía consumida y el presupuesto de mantenimiento, respectivamente."
   ]
  },
  {
   "cell_type": "markdown",
   "id": "7a450539-4b28-4741-8b79-2f3d5beac29e",
   "metadata": {},
   "source": [
    "### Solución del problema de optimización."
   ]
  },
  {
   "cell_type": "code",
   "execution_count": 161,
   "id": "d2aaf9c3-434c-428c-b488-fbbf520e36e9",
   "metadata": {},
   "outputs": [
    {
     "name": "stdout",
     "output_type": "stream",
     "text": [
      "Solución óptima encontrada:\n",
      "Cantidad de reactivos (x1): 100.00 kg\n",
      "Cantidad de energía (x2): 50.00 kWh\n",
      "Costo de mantenimiento (x3): 500.00 unidades monetarias\n",
      "Valor mínimo de Z (costo total): 86645.00 unidades monetarias\n"
     ]
    }
   ],
   "source": [
    "from scipy.optimize import linprog\n",
    "\n",
    "# Parámetros del problema\n",
    "p_reactivos = 20  # Precio por kg del reactivo químico\n",
    "p_energia = 1  # Precio por kWh de energía\n",
    "C_mantenimiento = 200  # Costo de mantenimiento\n",
    "\n",
    "# Valores máximos (capacidad o presupuesto)\n",
    "R_max = 1000  # Disponibilidad máxima de reactivos en kg\n",
    "E_max = 500  # Capacidad máxima de energía en kWh\n",
    "M_max = 2000  # Presupuesto máximo de mantenimiento en unidades monetarias\n",
    "\n",
    "# Valores mínimos \n",
    "R_min = 100  \n",
    "E_min = 50    \n",
    "M_min = 500   \n",
    "\n",
    "# Cálculo de costos reducidos\n",
    "p_reactivos_reducido = p_reactivos * (1 - 0.20)  # 20% de reducción\n",
    "p_energia_reducido = p_energia * (1 - 0.10)      # 10% de reducción\n",
    "C_mantenimiento_reducido = C_mantenimiento * (1 - 0.15)  # 15% de reducción\n",
    "\n",
    "# Definición de la función objetivo\n",
    "# Minimizar Z = p_reactivos_reducido * x1 + p_energia_reducido * x2 + C_mantenimiento_reducido * x3\n",
    "c = [p_reactivos_reducido, p_energia_reducido, C_mantenimiento_reducido]\n",
    "\n",
    "# Definición de las restricciones\n",
    "A_ub = [\n",
    "    [1, 0, 0],  # x1 <= R_max\n",
    "    [0, 1, 0],  # x2 <= E_max\n",
    "    [0, 0, 1]   # x3 <= M_max\n",
    "]\n",
    "b_ub = [R_max, E_max, M_max]  # Límite superior de cada restricción\n",
    "\n",
    "A_eq = [\n",
    "    [-1, 0, 0],  # x1 >= R_min\n",
    "    [0, -1, 0],  # x2 >= E_min\n",
    "    [0, 0, -1]   # x3 >= M_min\n",
    "]\n",
    "b_eq = [-R_min, -E_min, -M_min]  # Límite inferior de cada restricción (usando negativo para A_eq)\n",
    "\n",
    "# Resolver el problema de optimización\n",
    "result = linprog(c, A_ub=A_ub, b_ub=b_ub, A_eq=A_eq, b_eq=b_eq, method='highs')\n",
    "\n",
    "# Resultados\n",
    "if result.success:\n",
    "    print(f\"Solución óptima encontrada:\")\n",
    "    print(f\"Cantidad de reactivos (x1): {result.x[0]:.2f} kg\")\n",
    "    print(f\"Cantidad de energía (x2): {result.x[1]:.2f} kWh\")\n",
    "    print(f\"Costo de mantenimiento (x3): {result.x[2]:.2f} unidades monetarias\")\n",
    "    print(f\"Valor mínimo de Z (costo total): {result.fun:.2f} unidades monetarias\")\n"
   ]
  },
  {
   "cell_type": "markdown",
   "id": "a2211b66-9ec2-4122-8655-6aa83b2cf923",
   "metadata": {},
   "source": [
    "### ¿Condujo el algoritmo de optimización a una solución factible?"
   ]
  },
  {
   "cell_type": "markdown",
   "id": "4dc534f7-f7c1-4597-bb1b-d1771a6443b4",
   "metadata": {},
   "source": [
    "Dado que todos los valores cumplen con las restricciones impuestas, puedimos concluir que el algoritmo condujo a una solución factible. Esto significa que podemos proceder con los valores de reactivos, energía y costos de mantenimiento para el tratamiento de aguas residuales, ya que son óptimos y están dentro de los límites establecidos."
   ]
  },
  {
   "cell_type": "markdown",
   "id": "b6cdc699-9241-41ba-90c7-73e253ffea77",
   "metadata": {},
   "source": [
    "### Visualización de la solución del problema."
   ]
  },
  {
   "cell_type": "code",
   "execution_count": 172,
   "id": "d6d544b6-78eb-439c-a2e5-4dfa79191734",
   "metadata": {},
   "outputs": [
    {
     "data": {
      "image/png": "[encoded data removed]",
      "text/plain": [
       "<Figure size 1000x800 with 2 Axes>"
      ]
     },
     "metadata": {},
     "output_type": "display_data"
    }
   ],
   "source": [
    "# Código simplificado para graficar las cantidades y costos\n",
    "\n",
    "import matplotlib.pyplot as plt\n",
    "\n",
    "# Datos\n",
    "etiquetas = ['Reactivos', 'Energía', 'Mantenimiento']\n",
    "cantidades = [100.00, 50.00, 500.00]  # Cantidades óptimas\n",
    "costos_reducidos = [16, 0.90, 170]  # Costos reducidos\n",
    "costos_orig = [20, 1, 200]  # Costos originales\n",
    "\n",
    "# Crear una figura y ejes\n",
    "plt.figure(figsize=(10, 8))\n",
    "\n",
    "# Gráfico de Cantidades\n",
    "plt.subplot(2, 1, 1)\n",
    "plt.bar(etiquetas, cantidades, color=['blue', 'green', 'orange'])\n",
    "plt.title('Cantidades Óptimas Asignadas')\n",
    "plt.ylabel('Cantidad')\n",
    "plt.ylim(0, 600)\n",
    "\n",
    "# Gráfico de Costos\n",
    "plt.subplot(2, 1, 2)\n",
    "plt.bar(etiquetas, costos_orig, color='red', alpha=0.7, label='Costos Originales')\n",
    "plt.bar(etiquetas, costos_reducidos, color='green', alpha=0.7, label='Costos Reducidos')\n",
    "plt.title('Comparación de Costos: Originales vs Reducidos')\n",
    "plt.ylabel('Costo por kg o kWh')\n",
    "plt.legend()\n",
    "\n",
    "# Mostrar gráficos\n",
    "plt.tight_layout()\n",
    "plt.show()\n",
    "\n"
   ]
  },
  {
   "cell_type": "markdown",
   "id": "d7f1b798-1d25-4782-9de9-c466ddbe9b7f",
   "metadata": {},
   "source": [
    "### Conclusiones:"
   ]
  },
  {
   "cell_type": "markdown",
   "id": "3f87b80b-ee2d-4da8-9f94-8640213cb7ab",
   "metadata": {},
   "source": [
    "Consumo Energético:\n",
    "\n",
    "Resultado: Se asignaron 50.00 kWh, que es el límite mínimo.\n",
    " No se alcanzó el objetivo del 10% de reducción en el consumo energético. Se sugiere explorar más opciones para reducir el consumo sin comprometer la operación.\n",
    "\n",
    "Costos de Reactivos Químicos:\n",
    "\n",
    "Resultado: Se optimizaron a 100.00 kg, logrando un costo de 16 unidades monetarias por kg.\n",
    " Se cumplió el objetivo de reducir costos de reactivos en un 20%, demostrando efectividad en la optimización.\n",
    "\n",
    "Costos de Mantenimiento:\n",
    "\n",
    "Resultado: Se mantuvo en 500.00 unidades monetarias, el mínimo requerido.\n",
    "Se logró la reducción del 15% en costos de mantenimiento, indicando una gestión eficiente.\n",
    "Resumen Final\n",
    "El modelo cumplió los objetivos de reducción de costos para reactivos y mantenimiento, pero se debe trabajar en la reducción del consumo energético. Se recomienda revisaremos estrategias para optimizar aun mas el uso de energía"
   ]
  },
  {
   "cell_type": "markdown",
   "id": "e126f501-4497-4dcb-af94-8e519856e5cf",
   "metadata": {},
   "source": [
    "### Referencias:"
   ]
  },
  {
   "cell_type": "markdown",
   "id": "f029edd7-da60-4b0c-b02e-48439a3a7f0a",
   "metadata": {},
   "source": [
    "(S/f-b). Gob.mx. Recuperado el 2 de octubre de 2024, de https://liconsa.gob.mx/wp-content/uploads/2012/01/man-proc-op-plantas-trat-aguas-resi-his.pdf\r\n",
    "\n",
    "\n",
    "Marketing Neikos. (2024, abril 27). Tarifa industrial CFE ¿Cuánto paga de luz tu empresa? Quartux. https://quartux.com/blog/tarifa-industrial-cfe-cuanto-paga-luz-empresa\n",
    "\n",
    "\n",
    "Nom-, N.-001-S.-1996 N.-002-S.-1996. (s/f). Normas Oficiales Mexicanas. Gob.mx. Recuperado el 2 de octubre de 2024, de https://www.conagua.gob.mx/CONAGUA07/Publicaciones/Publicaciones/SGAA-15-13.pdf\n",
    "\r\n",
    "cgj1c. (2023, mayo 27). Costo aproximado de una planta de tratamiento de aguas residuales. Diaonia. https://diaonia.com/costo-aproximado-de-una-planta-de-tratamiento-de-aguas-residualesEnlaces a un sitio externo.\r\n",
    "\n",
    " Cuánto Cuesta una Planta de Tratamiento de Aguas Residuales: Guía Completa y Costos Actuales. (2024, enero 15). Instituto del Agua. https://institutodelagua.es/aguas-residuales/cuanto-cuesta-una-planta-de-tratamiento-de-aguas-residualesaguas-residuales/Enlaces a un sitio externo.\n",
    " \n"
   ]
  },
  {
   "cell_type": "code",
   "execution_count": null,
   "id": "94f615b4-4883-4bbe-b76c-ff46a5a5385f",
   "metadata": {},
   "outputs": [],
   "source": []
  }
 ],
 "metadata": {
  "kernelspec": {
   "display_name": "Python 3 (ipykernel)",
   "language": "python",
   "name": "python3"
  },
  "language_info": {
   "codemirror_mode": {
    "name": "ipython",
    "version": 3
   },
   "file_extension": ".py",
   "mimetype": "text/x-python",
   "name": "python",
   "nbconvert_exporter": "python",
   "pygments_lexer": "ipython3",
   "version": "3.12.4"
  }
 },
 "nbformat": 4,
 "nbformat_minor": 5
}
